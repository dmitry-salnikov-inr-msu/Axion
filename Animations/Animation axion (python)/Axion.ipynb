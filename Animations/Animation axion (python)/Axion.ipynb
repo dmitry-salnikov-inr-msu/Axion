{
 "cells": [
  {
   "cell_type": "code",
   "execution_count": 27,
   "metadata": {},
   "outputs": [
    {
     "data": {
      "image/png": "[encoded data removed]",
      "text/plain": [
       "<Figure size 432x288 with 2 Axes>"
      ]
     },
     "metadata": {
      "needs_background": "light"
     },
     "output_type": "display_data"
    }
   ],
   "source": [
    "import numpy as np\n",
    "import seaborn as sns\n",
    "import matplotlib.pyplot as plt\n",
    "from matplotlib import animation\n",
    "from matplotlib.collections import LineCollection\n",
    "\n",
    "def add(x, y):\n",
    "        return list(map(lambda a, b: a + b, x, y))\n",
    "\n",
    "fig = plt.figure()\n",
    "\n",
    "x = np.linspace(0,5,1)\n",
    "y = np.linspace(0,5,1)\n",
    "\n",
    "plt.gca().invert_yaxis()\n",
    "\n",
    "x,y = np.meshgrid(x,y)\n",
    " \n",
    "x_end = 5\n",
    "xticks = np.arange(x_end+1)\n",
    "yticks = np.linspace(-2.5,2.5,11)\n",
    "\n",
    "Max = 0.019\n",
    "\n",
    "data = []\n",
    "with open(\"null.txt\") as f:\n",
    "    for line in f:\n",
    "        data.append([float(x) for x in line.split()])\n",
    "data1 = []\n",
    "with open(\"cos (m = 8, R1 = 1, L1 = 1).txt\") as f:\n",
    "    for line in f:\n",
    "        data1.append([float(x) for x in line.split()])\n",
    "data2 = []\n",
    "with open(\"sin (m = 8, R1 = 1, L1 = 1).txt\") as f:\n",
    "    for line in f:\n",
    "        data2.append([float(x) for x in line.split()])\n",
    "for i in range(0,101):\n",
    "    for j in range(0,101):\n",
    "        data[j][i] = data1[j][i] + data2[j][i]\n",
    "sns.heatmap(data, square=True, vmin = -Max, vmax = Max, cmap = \"seismic\")\n",
    "\n",
    "\n",
    "def init():\n",
    "      sns.heatmap(np.zeros((10, 10)), square=True, cbar=False, vmin = -Max, vmax = Max, cmap = \"seismic\")\n",
    "\n",
    "def animate(i):\n",
    "    data = []\n",
    "    with open(\"null.txt\") as f:\n",
    "        for line in f:\n",
    "            data.append([float(x) for x in line.split()])\n",
    "    data1 = []\n",
    "    with open(\"cos (m = 8, R1 = 1, L1 = 1).txt\") as f:\n",
    "        for line in f:\n",
    "            data1.append([float(x) for x in line.split()])\n",
    "    data2 = []\n",
    "    with open(\"sin (m = 8, R1 = 1, L1 = 1).txt\") as f:\n",
    "        for line in f:\n",
    "            data2.append([float(x) for x in line.split()])\n",
    "    for k1 in range(0,101):\n",
    "        for k2 in range(0,101):\n",
    "            data[k2][k1] = data1[k2][k1]*np.cos(2*np.pi*i/20) + data2[k2][k1]*np.sin(2*np.pi*i/20)\n",
    "    ax = sns.heatmap(data, square=True, cbar=False, vmin = -Max, vmax = Max, xticklabels=xticks, yticklabels=yticks, cmap=\"seismic\")\n",
    "    ax.set_title('a(x,t)')\n",
    "    ax.set_ylabel('z, m')\n",
    "    ax.set_xlabel('rho, m')\n",
    "    ax.set_xticks(xticks*(ax.get_xlim()[1] - 0.5)/5)\n",
    "    ax.set_xticklabels(ax.get_xticklabels(), rotation=0)\n",
    "    ax.set_yticks((yticks + 2.5)*(ax.get_xlim()[1])/5)\n",
    "    ax.invert_yaxis()\n",
    "    R1 = 1\n",
    "    L1 = 1\n",
    "    lines = [[(0, 50 + L1*10), (R1*20, 50 + L1*10)], [(R1*20, 50 + L1*10), (R1*20, 50 - L1*10)], [(R1*20, 50 - L1*10), (0, 50 - L1*10)]]\n",
    "    lc = LineCollection(lines, linewidths=(2,2,2), colors=['black', 'black', 'black'])\n",
    "    ax.add_collection(lc)\n",
    "    ax.autoscale()\n",
    "    \n",
    "    \n",
    "\n",
    "    \n",
    "anim = animation.FuncAnimation(fig, animate, init_func=init, frames=20, repeat = False)\n",
    "anim.save('animation (m = 8, R1 = 1, L1 = 1).gif',writer='imagemagick',fps=20)\n"
   ]
  },
  {
   "cell_type": "code",
   "execution_count": null,
   "metadata": {},
   "outputs": [],
   "source": []
  }
 ],
 "metadata": {
  "kernelspec": {
   "display_name": "Python 3",
   "language": "python",
   "name": "python3"
  },
  "language_info": {
   "codemirror_mode": {
    "name": "ipython",
    "version": 3
   },
   "file_extension": ".py",
   "mimetype": "text/x-python",
   "name": "python",
   "nbconvert_exporter": "python",
   "pygments_lexer": "ipython3",
   "version": "3.8.3"
  }
 },
 "nbformat": 4,
 "nbformat_minor": 4
}
